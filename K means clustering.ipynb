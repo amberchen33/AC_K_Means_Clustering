{
 "cells": [
  {
   "cell_type": "code",
   "execution_count": 1,
   "metadata": {
    "collapsed": true
   },
   "outputs": [],
   "source": [
    "library(MASS)"
   ]
  },
  {
   "cell_type": "code",
   "execution_count": 23,
   "metadata": {
    "collapsed": false
   },
   "outputs": [],
   "source": [
    "data(iris)"
   ]
  },
  {
   "cell_type": "code",
   "execution_count": 3,
   "metadata": {
    "collapsed": false
   },
   "outputs": [
    {
     "data": {
      "text/html": [
       "<ol class=list-inline>\n",
       "\t<li>\"Sepal.Length\"</li>\n",
       "\t<li>\"Sepal.Width\"</li>\n",
       "\t<li>\"Petal.Length\"</li>\n",
       "\t<li>\"Petal.Width\"</li>\n",
       "\t<li>\"Species\"</li>\n",
       "</ol>\n"
      ],
      "text/latex": [
       "\\begin{enumerate*}\n",
       "\\item \"Sepal.Length\"\n",
       "\\item \"Sepal.Width\"\n",
       "\\item \"Petal.Length\"\n",
       "\\item \"Petal.Width\"\n",
       "\\item \"Species\"\n",
       "\\end{enumerate*}\n"
      ],
      "text/markdown": [
       "1. \"Sepal.Length\"\n",
       "2. \"Sepal.Width\"\n",
       "3. \"Petal.Length\"\n",
       "4. \"Petal.Width\"\n",
       "5. \"Species\"\n",
       "\n",
       "\n"
      ],
      "text/plain": [
       "[1] \"Sepal.Length\" \"Sepal.Width\"  \"Petal.Length\" \"Petal.Width\"  \"Species\"     "
      ]
     },
     "metadata": {},
     "output_type": "display_data"
    }
   ],
   "source": [
    "names(iris)"
   ]
  },
  {
   "cell_type": "code",
   "execution_count": 4,
   "metadata": {
    "collapsed": false
   },
   "outputs": [
    {
     "data": {
      "text/html": [
       "<table>\n",
       "<thead><tr><th></th><th scope=col>Sepal.Length</th><th scope=col>Sepal.Width</th><th scope=col>Petal.Length</th><th scope=col>Petal.Width</th><th scope=col>Species</th></tr></thead>\n",
       "<tbody>\n",
       "\t<tr><th scope=row>1</th><td>5.1   </td><td>3.5   </td><td>1.4   </td><td>0.2   </td><td>setosa</td></tr>\n",
       "\t<tr><th scope=row>2</th><td>4.9   </td><td>3     </td><td>1.4   </td><td>0.2   </td><td>setosa</td></tr>\n",
       "\t<tr><th scope=row>3</th><td>4.7   </td><td>3.2   </td><td>1.3   </td><td>0.2   </td><td>setosa</td></tr>\n",
       "\t<tr><th scope=row>4</th><td>4.6   </td><td>3.1   </td><td>1.5   </td><td>0.2   </td><td>setosa</td></tr>\n",
       "\t<tr><th scope=row>5</th><td>5     </td><td>3.6   </td><td>1.4   </td><td>0.2   </td><td>setosa</td></tr>\n",
       "\t<tr><th scope=row>6</th><td>5.4   </td><td>3.9   </td><td>1.7   </td><td>0.4   </td><td>setosa</td></tr>\n",
       "\t<tr><th scope=row>7</th><td>4.6   </td><td>3.4   </td><td>1.4   </td><td>0.3   </td><td>setosa</td></tr>\n",
       "\t<tr><th scope=row>8</th><td>5     </td><td>3.4   </td><td>1.5   </td><td>0.2   </td><td>setosa</td></tr>\n",
       "\t<tr><th scope=row>9</th><td>4.4   </td><td>2.9   </td><td>1.4   </td><td>0.2   </td><td>setosa</td></tr>\n",
       "\t<tr><th scope=row>10</th><td>4.9   </td><td>3.1   </td><td>1.5   </td><td>0.1   </td><td>setosa</td></tr>\n",
       "\t<tr><th scope=row>11</th><td>5.4   </td><td>3.7   </td><td>1.5   </td><td>0.2   </td><td>setosa</td></tr>\n",
       "\t<tr><th scope=row>12</th><td>4.8   </td><td>3.4   </td><td>1.6   </td><td>0.2   </td><td>setosa</td></tr>\n",
       "\t<tr><th scope=row>13</th><td>4.8   </td><td>3     </td><td>1.4   </td><td>0.1   </td><td>setosa</td></tr>\n",
       "\t<tr><th scope=row>14</th><td>4.3   </td><td>3     </td><td>1.1   </td><td>0.1   </td><td>setosa</td></tr>\n",
       "\t<tr><th scope=row>15</th><td>5.8   </td><td>4     </td><td>1.2   </td><td>0.2   </td><td>setosa</td></tr>\n",
       "\t<tr><th scope=row>16</th><td>5.7   </td><td>4.4   </td><td>1.5   </td><td>0.4   </td><td>setosa</td></tr>\n",
       "\t<tr><th scope=row>17</th><td>5.4   </td><td>3.9   </td><td>1.3   </td><td>0.4   </td><td>setosa</td></tr>\n",
       "\t<tr><th scope=row>18</th><td>5.1   </td><td>3.5   </td><td>1.4   </td><td>0.3   </td><td>setosa</td></tr>\n",
       "\t<tr><th scope=row>19</th><td>5.7   </td><td>3.8   </td><td>1.7   </td><td>0.3   </td><td>setosa</td></tr>\n",
       "\t<tr><th scope=row>20</th><td>5.1   </td><td>3.8   </td><td>1.5   </td><td>0.3   </td><td>setosa</td></tr>\n",
       "\t<tr><th scope=row>21</th><td>5.4   </td><td>3.4   </td><td>1.7   </td><td>0.2   </td><td>setosa</td></tr>\n",
       "\t<tr><th scope=row>22</th><td>5.1   </td><td>3.7   </td><td>1.5   </td><td>0.4   </td><td>setosa</td></tr>\n",
       "\t<tr><th scope=row>23</th><td>4.6   </td><td>3.6   </td><td>1     </td><td>0.2   </td><td>setosa</td></tr>\n",
       "\t<tr><th scope=row>24</th><td>5.1   </td><td>3.3   </td><td>1.7   </td><td>0.5   </td><td>setosa</td></tr>\n",
       "\t<tr><th scope=row>25</th><td>4.8   </td><td>3.4   </td><td>1.9   </td><td>0.2   </td><td>setosa</td></tr>\n",
       "\t<tr><th scope=row>26</th><td>5     </td><td>3     </td><td>1.6   </td><td>0.2   </td><td>setosa</td></tr>\n",
       "\t<tr><th scope=row>27</th><td>5     </td><td>3.4   </td><td>1.6   </td><td>0.4   </td><td>setosa</td></tr>\n",
       "\t<tr><th scope=row>28</th><td>5.2   </td><td>3.5   </td><td>1.5   </td><td>0.2   </td><td>setosa</td></tr>\n",
       "\t<tr><th scope=row>29</th><td>5.2   </td><td>3.4   </td><td>1.4   </td><td>0.2   </td><td>setosa</td></tr>\n",
       "\t<tr><th scope=row>30</th><td>4.7   </td><td>3.2   </td><td>1.6   </td><td>0.2   </td><td>setosa</td></tr>\n",
       "\t<tr><th scope=row>...</th><td>...</td><td>...</td><td>...</td><td>...</td><td>...</td></tr>\n",
       "\t<tr><th scope=row>121</th><td>6.9      </td><td>3.2      </td><td>5.7      </td><td>2.3      </td><td>virginica</td></tr>\n",
       "\t<tr><th scope=row>122</th><td>5.6      </td><td>2.8      </td><td>4.9      </td><td>2        </td><td>virginica</td></tr>\n",
       "\t<tr><th scope=row>123</th><td>7.7      </td><td>2.8      </td><td>6.7      </td><td>2        </td><td>virginica</td></tr>\n",
       "\t<tr><th scope=row>124</th><td>6.3      </td><td>2.7      </td><td>4.9      </td><td>1.8      </td><td>virginica</td></tr>\n",
       "\t<tr><th scope=row>125</th><td>6.7      </td><td>3.3      </td><td>5.7      </td><td>2.1      </td><td>virginica</td></tr>\n",
       "\t<tr><th scope=row>126</th><td>7.2      </td><td>3.2      </td><td>6        </td><td>1.8      </td><td>virginica</td></tr>\n",
       "\t<tr><th scope=row>127</th><td>6.2      </td><td>2.8      </td><td>4.8      </td><td>1.8      </td><td>virginica</td></tr>\n",
       "\t<tr><th scope=row>128</th><td>6.1      </td><td>3        </td><td>4.9      </td><td>1.8      </td><td>virginica</td></tr>\n",
       "\t<tr><th scope=row>129</th><td>6.4      </td><td>2.8      </td><td>5.6      </td><td>2.1      </td><td>virginica</td></tr>\n",
       "\t<tr><th scope=row>130</th><td>7.2      </td><td>3        </td><td>5.8      </td><td>1.6      </td><td>virginica</td></tr>\n",
       "\t<tr><th scope=row>131</th><td>7.4      </td><td>2.8      </td><td>6.1      </td><td>1.9      </td><td>virginica</td></tr>\n",
       "\t<tr><th scope=row>132</th><td>7.9      </td><td>3.8      </td><td>6.4      </td><td>2        </td><td>virginica</td></tr>\n",
       "\t<tr><th scope=row>133</th><td>6.4      </td><td>2.8      </td><td>5.6      </td><td>2.2      </td><td>virginica</td></tr>\n",
       "\t<tr><th scope=row>134</th><td>6.3      </td><td>2.8      </td><td>5.1      </td><td>1.5      </td><td>virginica</td></tr>\n",
       "\t<tr><th scope=row>135</th><td>6.1      </td><td>2.6      </td><td>5.6      </td><td>1.4      </td><td>virginica</td></tr>\n",
       "\t<tr><th scope=row>136</th><td>7.7      </td><td>3        </td><td>6.1      </td><td>2.3      </td><td>virginica</td></tr>\n",
       "\t<tr><th scope=row>137</th><td>6.3      </td><td>3.4      </td><td>5.6      </td><td>2.4      </td><td>virginica</td></tr>\n",
       "\t<tr><th scope=row>138</th><td>6.4      </td><td>3.1      </td><td>5.5      </td><td>1.8      </td><td>virginica</td></tr>\n",
       "\t<tr><th scope=row>139</th><td>6        </td><td>3        </td><td>4.8      </td><td>1.8      </td><td>virginica</td></tr>\n",
       "\t<tr><th scope=row>140</th><td>6.9      </td><td>3.1      </td><td>5.4      </td><td>2.1      </td><td>virginica</td></tr>\n",
       "\t<tr><th scope=row>141</th><td>6.7      </td><td>3.1      </td><td>5.6      </td><td>2.4      </td><td>virginica</td></tr>\n",
       "\t<tr><th scope=row>142</th><td>6.9      </td><td>3.1      </td><td>5.1      </td><td>2.3      </td><td>virginica</td></tr>\n",
       "\t<tr><th scope=row>143</th><td>5.8      </td><td>2.7      </td><td>5.1      </td><td>1.9      </td><td>virginica</td></tr>\n",
       "\t<tr><th scope=row>144</th><td>6.8      </td><td>3.2      </td><td>5.9      </td><td>2.3      </td><td>virginica</td></tr>\n",
       "\t<tr><th scope=row>145</th><td>6.7      </td><td>3.3      </td><td>5.7      </td><td>2.5      </td><td>virginica</td></tr>\n",
       "\t<tr><th scope=row>146</th><td>6.7      </td><td>3        </td><td>5.2      </td><td>2.3      </td><td>virginica</td></tr>\n",
       "\t<tr><th scope=row>147</th><td>6.3      </td><td>2.5      </td><td>5        </td><td>1.9      </td><td>virginica</td></tr>\n",
       "\t<tr><th scope=row>148</th><td>6.5      </td><td>3        </td><td>5.2      </td><td>2        </td><td>virginica</td></tr>\n",
       "\t<tr><th scope=row>149</th><td>6.2      </td><td>3.4      </td><td>5.4      </td><td>2.3      </td><td>virginica</td></tr>\n",
       "\t<tr><th scope=row>150</th><td>5.9      </td><td>3        </td><td>5.1      </td><td>1.8      </td><td>virginica</td></tr>\n",
       "</tbody>\n",
       "</table>\n"
      ],
      "text/latex": [
       "\\begin{tabular}{r|lllll}\n",
       "  & Sepal.Length & Sepal.Width & Petal.Length & Petal.Width & Species\\\\\n",
       "\\hline\n",
       "\t1 & 5.1    & 3.5    & 1.4    & 0.2    & setosa\\\\\n",
       "\t2 & 4.9    & 3      & 1.4    & 0.2    & setosa\\\\\n",
       "\t3 & 4.7    & 3.2    & 1.3    & 0.2    & setosa\\\\\n",
       "\t4 & 4.6    & 3.1    & 1.5    & 0.2    & setosa\\\\\n",
       "\t5 & 5      & 3.6    & 1.4    & 0.2    & setosa\\\\\n",
       "\t6 & 5.4    & 3.9    & 1.7    & 0.4    & setosa\\\\\n",
       "\t7 & 4.6    & 3.4    & 1.4    & 0.3    & setosa\\\\\n",
       "\t8 & 5      & 3.4    & 1.5    & 0.2    & setosa\\\\\n",
       "\t9 & 4.4    & 2.9    & 1.4    & 0.2    & setosa\\\\\n",
       "\t10 & 4.9    & 3.1    & 1.5    & 0.1    & setosa\\\\\n",
       "\t11 & 5.4    & 3.7    & 1.5    & 0.2    & setosa\\\\\n",
       "\t12 & 4.8    & 3.4    & 1.6    & 0.2    & setosa\\\\\n",
       "\t13 & 4.8    & 3      & 1.4    & 0.1    & setosa\\\\\n",
       "\t14 & 4.3    & 3      & 1.1    & 0.1    & setosa\\\\\n",
       "\t15 & 5.8    & 4      & 1.2    & 0.2    & setosa\\\\\n",
       "\t16 & 5.7    & 4.4    & 1.5    & 0.4    & setosa\\\\\n",
       "\t17 & 5.4    & 3.9    & 1.3    & 0.4    & setosa\\\\\n",
       "\t18 & 5.1    & 3.5    & 1.4    & 0.3    & setosa\\\\\n",
       "\t19 & 5.7    & 3.8    & 1.7    & 0.3    & setosa\\\\\n",
       "\t20 & 5.1    & 3.8    & 1.5    & 0.3    & setosa\\\\\n",
       "\t21 & 5.4    & 3.4    & 1.7    & 0.2    & setosa\\\\\n",
       "\t22 & 5.1    & 3.7    & 1.5    & 0.4    & setosa\\\\\n",
       "\t23 & 4.6    & 3.6    & 1      & 0.2    & setosa\\\\\n",
       "\t24 & 5.1    & 3.3    & 1.7    & 0.5    & setosa\\\\\n",
       "\t25 & 4.8    & 3.4    & 1.9    & 0.2    & setosa\\\\\n",
       "\t26 & 5      & 3      & 1.6    & 0.2    & setosa\\\\\n",
       "\t27 & 5      & 3.4    & 1.6    & 0.4    & setosa\\\\\n",
       "\t28 & 5.2    & 3.5    & 1.5    & 0.2    & setosa\\\\\n",
       "\t29 & 5.2    & 3.4    & 1.4    & 0.2    & setosa\\\\\n",
       "\t30 & 4.7    & 3.2    & 1.6    & 0.2    & setosa\\\\\n",
       "\t... & ... & ... & ... & ... & ...\\\\\n",
       "\t121 & 6.9       & 3.2       & 5.7       & 2.3       & virginica\\\\\n",
       "\t122 & 5.6       & 2.8       & 4.9       & 2         & virginica\\\\\n",
       "\t123 & 7.7       & 2.8       & 6.7       & 2         & virginica\\\\\n",
       "\t124 & 6.3       & 2.7       & 4.9       & 1.8       & virginica\\\\\n",
       "\t125 & 6.7       & 3.3       & 5.7       & 2.1       & virginica\\\\\n",
       "\t126 & 7.2       & 3.2       & 6         & 1.8       & virginica\\\\\n",
       "\t127 & 6.2       & 2.8       & 4.8       & 1.8       & virginica\\\\\n",
       "\t128 & 6.1       & 3         & 4.9       & 1.8       & virginica\\\\\n",
       "\t129 & 6.4       & 2.8       & 5.6       & 2.1       & virginica\\\\\n",
       "\t130 & 7.2       & 3         & 5.8       & 1.6       & virginica\\\\\n",
       "\t131 & 7.4       & 2.8       & 6.1       & 1.9       & virginica\\\\\n",
       "\t132 & 7.9       & 3.8       & 6.4       & 2         & virginica\\\\\n",
       "\t133 & 6.4       & 2.8       & 5.6       & 2.2       & virginica\\\\\n",
       "\t134 & 6.3       & 2.8       & 5.1       & 1.5       & virginica\\\\\n",
       "\t135 & 6.1       & 2.6       & 5.6       & 1.4       & virginica\\\\\n",
       "\t136 & 7.7       & 3         & 6.1       & 2.3       & virginica\\\\\n",
       "\t137 & 6.3       & 3.4       & 5.6       & 2.4       & virginica\\\\\n",
       "\t138 & 6.4       & 3.1       & 5.5       & 1.8       & virginica\\\\\n",
       "\t139 & 6         & 3         & 4.8       & 1.8       & virginica\\\\\n",
       "\t140 & 6.9       & 3.1       & 5.4       & 2.1       & virginica\\\\\n",
       "\t141 & 6.7       & 3.1       & 5.6       & 2.4       & virginica\\\\\n",
       "\t142 & 6.9       & 3.1       & 5.1       & 2.3       & virginica\\\\\n",
       "\t143 & 5.8       & 2.7       & 5.1       & 1.9       & virginica\\\\\n",
       "\t144 & 6.8       & 3.2       & 5.9       & 2.3       & virginica\\\\\n",
       "\t145 & 6.7       & 3.3       & 5.7       & 2.5       & virginica\\\\\n",
       "\t146 & 6.7       & 3         & 5.2       & 2.3       & virginica\\\\\n",
       "\t147 & 6.3       & 2.5       & 5         & 1.9       & virginica\\\\\n",
       "\t148 & 6.5       & 3         & 5.2       & 2         & virginica\\\\\n",
       "\t149 & 6.2       & 3.4       & 5.4       & 2.3       & virginica\\\\\n",
       "\t150 & 5.9       & 3         & 5.1       & 1.8       & virginica\\\\\n",
       "\\end{tabular}\n"
      ],
      "text/plain": [
       "    Sepal.Length Sepal.Width Petal.Length Petal.Width   Species\n",
       "1            5.1         3.5          1.4         0.2    setosa\n",
       "2            4.9           3          1.4         0.2    setosa\n",
       "3            4.7         3.2          1.3         0.2    setosa\n",
       "4            4.6         3.1          1.5         0.2    setosa\n",
       "5              5         3.6          1.4         0.2    setosa\n",
       "6            5.4         3.9          1.7         0.4    setosa\n",
       "7            4.6         3.4          1.4         0.3    setosa\n",
       "8              5         3.4          1.5         0.2    setosa\n",
       "9            4.4         2.9          1.4         0.2    setosa\n",
       "10           4.9         3.1          1.5         0.1    setosa\n",
       "11           5.4         3.7          1.5         0.2    setosa\n",
       "12           4.8         3.4          1.6         0.2    setosa\n",
       "13           4.8           3          1.4         0.1    setosa\n",
       "14           4.3           3          1.1         0.1    setosa\n",
       "15           5.8           4          1.2         0.2    setosa\n",
       "16           5.7         4.4          1.5         0.4    setosa\n",
       "17           5.4         3.9          1.3         0.4    setosa\n",
       "18           5.1         3.5          1.4         0.3    setosa\n",
       "19           5.7         3.8          1.7         0.3    setosa\n",
       "20           5.1         3.8          1.5         0.3    setosa\n",
       "21           5.4         3.4          1.7         0.2    setosa\n",
       "22           5.1         3.7          1.5         0.4    setosa\n",
       "23           4.6         3.6            1         0.2    setosa\n",
       "24           5.1         3.3          1.7         0.5    setosa\n",
       "25           4.8         3.4          1.9         0.2    setosa\n",
       "26             5           3          1.6         0.2    setosa\n",
       "27             5         3.4          1.6         0.4    setosa\n",
       "28           5.2         3.5          1.5         0.2    setosa\n",
       "29           5.2         3.4          1.4         0.2    setosa\n",
       "30           4.7         3.2          1.6         0.2    setosa\n",
       "...          ...         ...          ...         ...       ...\n",
       "121          6.9         3.2          5.7         2.3 virginica\n",
       "122          5.6         2.8          4.9           2 virginica\n",
       "123          7.7         2.8          6.7           2 virginica\n",
       "124          6.3         2.7          4.9         1.8 virginica\n",
       "125          6.7         3.3          5.7         2.1 virginica\n",
       "126          7.2         3.2            6         1.8 virginica\n",
       "127          6.2         2.8          4.8         1.8 virginica\n",
       "128          6.1           3          4.9         1.8 virginica\n",
       "129          6.4         2.8          5.6         2.1 virginica\n",
       "130          7.2           3          5.8         1.6 virginica\n",
       "131          7.4         2.8          6.1         1.9 virginica\n",
       "132          7.9         3.8          6.4           2 virginica\n",
       "133          6.4         2.8          5.6         2.2 virginica\n",
       "134          6.3         2.8          5.1         1.5 virginica\n",
       "135          6.1         2.6          5.6         1.4 virginica\n",
       "136          7.7           3          6.1         2.3 virginica\n",
       "137          6.3         3.4          5.6         2.4 virginica\n",
       "138          6.4         3.1          5.5         1.8 virginica\n",
       "139            6           3          4.8         1.8 virginica\n",
       "140          6.9         3.1          5.4         2.1 virginica\n",
       "141          6.7         3.1          5.6         2.4 virginica\n",
       "142          6.9         3.1          5.1         2.3 virginica\n",
       "143          5.8         2.7          5.1         1.9 virginica\n",
       "144          6.8         3.2          5.9         2.3 virginica\n",
       "145          6.7         3.3          5.7         2.5 virginica\n",
       "146          6.7           3          5.2         2.3 virginica\n",
       "147          6.3         2.5            5         1.9 virginica\n",
       "148          6.5           3          5.2           2 virginica\n",
       "149          6.2         3.4          5.4         2.3 virginica\n",
       "150          5.9           3          5.1         1.8 virginica"
      ]
     },
     "metadata": {},
     "output_type": "display_data"
    }
   ],
   "source": [
    "iris"
   ]
  },
  {
   "cell_type": "code",
   "execution_count": 30,
   "metadata": {
    "collapsed": true
   },
   "outputs": [],
   "source": [
    "require(graphics)"
   ]
  },
  {
   "cell_type": "code",
   "execution_count": 21,
   "metadata": {
    "collapsed": false,
    "scrolled": false
   },
   "outputs": [
    {
     "data": {
      "image/png": "[encoded data removed]",
      "text/plain": [
       "plot without title"
      ]
     },
     "metadata": {
      "image/svg+xml": {
       "isolated": true
      }
     },
     "output_type": "display_data"
    }
   ],
   "source": [
    "plot(iris$Sepal.Length, iris$Sepal.Width, pch = 16)"
   ]
  },
  {
   "cell_type": "code",
   "execution_count": 26,
   "metadata": {
    "collapsed": false
   },
   "outputs": [],
   "source": [
    "newiris<-iris[,1:2]"
   ]
  },
  {
   "cell_type": "code",
   "execution_count": 27,
   "metadata": {
    "collapsed": false
   },
   "outputs": [
    {
     "data": {
      "image/png": "[encoded data removed]",
      "text/plain": [
       "plot without title"
      ]
     },
     "metadata": {
      "image/svg+xml": {
       "isolated": true
      }
     },
     "output_type": "display_data"
    }
   ],
   "source": [
    "require(graphics)\n",
    "cl <- kmeans(newiris, 2)\n",
    "plot(newiris, col = cl$cluster)\n",
    "points(cl$centers, col = 1:2, pch = 8, cex = 2)\n"
   ]
  },
  {
   "cell_type": "code",
   "execution_count": 28,
   "metadata": {
    "collapsed": false
   },
   "outputs": [
    {
     "data": {
      "image/png": "[encoded data removed]",
      "text/plain": [
       "plot without title"
      ]
     },
     "metadata": {
      "image/svg+xml": {
       "isolated": true
      }
     },
     "output_type": "display_data"
    }
   ],
   "source": [
    "cl <- kmeans(newiris, 3)\n",
    "plot(newiris, col = cl$cluster)\n",
    "points(cl$centers, col = 1:2, pch = 8, cex = 2)\n"
   ]
  },
  {
   "cell_type": "code",
   "execution_count": 34,
   "metadata": {
    "collapsed": false
   },
   "outputs": [
    {
     "data": {
      "text/plain": [
       "   \n",
       "    setosa versicolor virginica\n",
       "  1     50          0         0\n",
       "  2      0         12        35\n",
       "  3      0         38        15"
      ]
     },
     "metadata": {},
     "output_type": "display_data"
    }
   ],
   "source": [
    "table(cl$cluster, iris$Species)"
   ]
  },
  {
   "cell_type": "code",
   "execution_count": null,
   "metadata": {
    "collapsed": true
   },
   "outputs": [],
   "source": []
  },
  {
   "cell_type": "code",
   "execution_count": null,
   "metadata": {
    "collapsed": true
   },
   "outputs": [],
   "source": []
  },
  {
   "cell_type": "code",
   "execution_count": 23,
   "metadata": {
    "collapsed": false
   },
   "outputs": [
    {
     "data": {
      "image/png": "[encoded data removed]",
      "text/plain": [
       "plot without title"
      ]
     },
     "metadata": {
      "image/svg+xml": {
       "isolated": true
      }
     },
     "output_type": "display_data"
    }
   ],
   "source": [
    "cl <- kmeans(newiris, 4)\n",
    "plot(newiris, col = cl$cluster)\n",
    "points(cl$centers, col = 1:2, pch = 8, cex = 2)\n"
   ]
  },
  {
   "cell_type": "code",
   "execution_count": 38,
   "metadata": {
    "collapsed": false
   },
   "outputs": [
    {
     "ename": "ERROR",
     "evalue": "Error in library(MeanShift): there is no package called 'MeanShift'\n",
     "output_type": "error",
     "traceback": [
      "Error in library(MeanShift): there is no package called 'MeanShift'\nTraceback:\n",
      "1. library(MeanShift)",
      "2. stop(txt, domain = NA)"
     ]
    }
   ],
   "source": [
    "library(MeanShift)"
   ]
  },
  {
   "cell_type": "code",
   "execution_count": 76,
   "metadata": {
    "collapsed": false
   },
   "outputs": [
    {
     "name": "stderr",
     "output_type": "stream",
     "text": [
      "Installing package into 'C:/Users/rpt/Documents/R/win-library/3.3'\n",
      "(as 'lib' is unspecified)\n",
      "Warning message:\n",
      ": package 'LPCM' is in use and will not be installed"
     ]
    }
   ],
   "source": [
    "install.packages('LPCM', repos = 'http://cran.us.r-project.org', dependencies = TRUE)"
   ]
  },
  {
   "cell_type": "code",
   "execution_count": 77,
   "metadata": {
    "collapsed": false
   },
   "outputs": [],
   "source": [
    "library(LPCM)"
   ]
  },
  {
   "cell_type": "code",
   "execution_count": 78,
   "metadata": {
    "collapsed": false
   },
   "outputs": [
    {
     "data": {
      "image/png": "[encoded data removed]",
      "text/plain": [
       "plot without title"
      ]
     },
     "metadata": {
      "image/svg+xml": {
       "isolated": true
      }
     },
     "output_type": "display_data"
    }
   ],
   "source": [
    "data(faithful)\n",
    "# Mean shift clustering with user-defined bandwidth (5 percent of data range)\n",
    "fit <- ms(newiris)\n",
    "\n"
   ]
  },
  {
   "cell_type": "code",
   "execution_count": 79,
   "metadata": {
    "collapsed": false
   },
   "outputs": [
    {
     "name": "stdout",
     "output_type": "stream",
     "text": [
      "$cluster.center\n",
      "      [,1]     [,2]\n",
      "1 1.390875 1.406474\n",
      "2 1.721009 1.207169\n",
      "\n",
      "$cluster.label\n",
      "  [1] 1 1 1 1 1 1 1 1 1 1 1 1 1 1 1 1 1 1 1 1 1 1 1 1 1 1 1 1 1 1 1 1 1 1 1 1 1\n",
      " [38] 1 1 1 1 2 1 1 1 1 1 1 1 1 2 2 2 2 2 2 2 2 2 2 2 2 2 2 2 2 2 2 2 2 2 2 2 2\n",
      " [75] 2 2 2 2 2 2 2 2 2 2 2 2 2 2 2 2 2 2 2 2 2 2 2 2 2 2 2 2 2 2 2 2 2 2 2 2 2\n",
      "[112] 2 2 2 2 2 2 2 2 2 2 2 2 2 2 2 2 2 2 2 2 2 2 2 2 2 2 2 2 2 2 2 2 2 2 2 2 2\n",
      "[149] 2 2\n",
      "\n",
      "$closest.label\n",
      "  [1] 1 1 1 1 1 1 1 1 1 1 1 1 1 1 1 1 1 1 1 1 1 1 1 1 1 1 1 1 1 1 1 1 1 1 1 1 1\n",
      " [38] 1 1 1 1 1 1 1 1 1 1 1 1 1 2 2 2 2 2 2 2 1 2 1 2 2 2 2 2 2 2 2 2 2 2 2 2 2\n",
      " [75] 2 2 2 2 2 2 2 2 2 2 1 2 2 2 2 2 2 2 2 2 2 2 2 2 2 2 2 2 2 2 2 2 1 2 2 2 2\n",
      "[112] 2 2 2 2 2 2 2 2 2 2 2 2 2 2 2 2 2 2 2 2 2 2 2 2 2 2 2 2 2 2 2 2 2 2 2 2 2\n",
      "[149] 2 2\n",
      "\n",
      "$h\n",
      "[1] 0.1 0.1\n",
      "\n",
      "$data\n",
      "    Sepal.Length Sepal.Width\n",
      "1       1.416667   1.4583333\n",
      "2       1.361111   1.2500000\n",
      "3       1.305556   1.3333333\n",
      "4       1.277778   1.2916667\n",
      "5       1.388889   1.5000000\n",
      "6       1.500000   1.6250000\n",
      "7       1.277778   1.4166667\n",
      "8       1.388889   1.4166667\n",
      "9       1.222222   1.2083333\n",
      "10      1.361111   1.2916667\n",
      "11      1.500000   1.5416667\n",
      "12      1.333333   1.4166667\n",
      "13      1.333333   1.2500000\n",
      "14      1.194444   1.2500000\n",
      "15      1.611111   1.6666667\n",
      "16      1.583333   1.8333333\n",
      "17      1.500000   1.6250000\n",
      "18      1.416667   1.4583333\n",
      "19      1.583333   1.5833333\n",
      "20      1.416667   1.5833333\n",
      "21      1.500000   1.4166667\n",
      "22      1.416667   1.5416667\n",
      "23      1.277778   1.5000000\n",
      "24      1.416667   1.3750000\n",
      "25      1.333333   1.4166667\n",
      "26      1.388889   1.2500000\n",
      "27      1.388889   1.4166667\n",
      "28      1.444444   1.4583333\n",
      "29      1.444444   1.4166667\n",
      "30      1.305556   1.3333333\n",
      "31      1.333333   1.2916667\n",
      "32      1.500000   1.4166667\n",
      "33      1.444444   1.7083333\n",
      "34      1.527778   1.7500000\n",
      "35      1.361111   1.2916667\n",
      "36      1.388889   1.3333333\n",
      "37      1.527778   1.4583333\n",
      "38      1.361111   1.5000000\n",
      "39      1.222222   1.2500000\n",
      "40      1.416667   1.4166667\n",
      "41      1.388889   1.4583333\n",
      "42      1.250000   0.9583333\n",
      "43      1.222222   1.3333333\n",
      "44      1.388889   1.4583333\n",
      "45      1.416667   1.5833333\n",
      "46      1.333333   1.2500000\n",
      "47      1.416667   1.5833333\n",
      "48      1.277778   1.3333333\n",
      "49      1.472222   1.5416667\n",
      "50      1.388889   1.3750000\n",
      "51      1.944444   1.3333333\n",
      "52      1.777778   1.3333333\n",
      "53      1.916667   1.2916667\n",
      "54      1.527778   0.9583333\n",
      "55      1.805556   1.1666667\n",
      "56      1.583333   1.1666667\n",
      "57      1.750000   1.3750000\n",
      "58      1.361111   1.0000000\n",
      "59      1.833333   1.2083333\n",
      "60      1.444444   1.1250000\n",
      "61      1.388889   0.8333333\n",
      "62      1.638889   1.2500000\n",
      "63      1.666667   0.9166667\n",
      "64      1.694444   1.2083333\n",
      "65      1.555556   1.2083333\n",
      "66      1.861111   1.2916667\n",
      "67      1.555556   1.2500000\n",
      "68      1.611111   1.1250000\n",
      "69      1.722222   0.9166667\n",
      "70      1.555556   1.0416667\n",
      "71      1.638889   1.3333333\n",
      "72      1.694444   1.1666667\n",
      "73      1.750000   1.0416667\n",
      "74      1.694444   1.1666667\n",
      "75      1.777778   1.2083333\n",
      "76      1.833333   1.2500000\n",
      "77      1.888889   1.1666667\n",
      "78      1.861111   1.2500000\n",
      "79      1.666667   1.2083333\n",
      "80      1.583333   1.0833333\n",
      "81      1.527778   1.0000000\n",
      "82      1.527778   1.0000000\n",
      "83      1.611111   1.1250000\n",
      "84      1.666667   1.1250000\n",
      "85      1.500000   1.2500000\n",
      "86      1.666667   1.4166667\n",
      "87      1.861111   1.2916667\n",
      "88      1.750000   0.9583333\n",
      "89      1.555556   1.2500000\n",
      "90      1.527778   1.0416667\n",
      "91      1.527778   1.0833333\n",
      "92      1.694444   1.2500000\n",
      "93      1.611111   1.0833333\n",
      "94      1.388889   0.9583333\n",
      "95      1.555556   1.1250000\n",
      "96      1.583333   1.2500000\n",
      "97      1.583333   1.2083333\n",
      "98      1.722222   1.2083333\n",
      "99      1.416667   1.0416667\n",
      "100     1.583333   1.1666667\n",
      "101     1.750000   1.3750000\n",
      "102     1.611111   1.1250000\n",
      "103     1.972222   1.2500000\n",
      "104     1.750000   1.2083333\n",
      "105     1.805556   1.2500000\n",
      "106     2.111111   1.2500000\n",
      "107     1.361111   1.0416667\n",
      "108     2.027778   1.2083333\n",
      "109     1.861111   1.0416667\n",
      "110     2.000000   1.5000000\n",
      "111     1.805556   1.3333333\n",
      "112     1.777778   1.1250000\n",
      "113     1.888889   1.2500000\n",
      "114     1.583333   1.0416667\n",
      "115     1.611111   1.1666667\n",
      "116     1.777778   1.3333333\n",
      "117     1.805556   1.2500000\n",
      "118     2.138889   1.5833333\n",
      "119     2.138889   1.0833333\n",
      "120     1.666667   0.9166667\n",
      "121     1.916667   1.3333333\n",
      "122     1.555556   1.1666667\n",
      "123     2.138889   1.1666667\n",
      "124     1.750000   1.1250000\n",
      "125     1.861111   1.3750000\n",
      "126     2.000000   1.3333333\n",
      "127     1.722222   1.1666667\n",
      "128     1.694444   1.2500000\n",
      "129     1.777778   1.1666667\n",
      "130     2.000000   1.2500000\n",
      "131     2.055556   1.1666667\n",
      "132     2.194444   1.5833333\n",
      "133     1.777778   1.1666667\n",
      "134     1.750000   1.1666667\n",
      "135     1.694444   1.0833333\n",
      "136     2.138889   1.2500000\n",
      "137     1.750000   1.4166667\n",
      "138     1.777778   1.2916667\n",
      "139     1.666667   1.2500000\n",
      "140     1.916667   1.2916667\n",
      "141     1.861111   1.2916667\n",
      "142     1.916667   1.2916667\n",
      "143     1.611111   1.1250000\n",
      "144     1.888889   1.3333333\n",
      "145     1.861111   1.3750000\n",
      "146     1.861111   1.2500000\n",
      "147     1.750000   1.0416667\n",
      "148     1.805556   1.2500000\n",
      "149     1.722222   1.4166667\n",
      "150     1.638889   1.2500000\n",
      "\n",
      "$scaled\n",
      "[1] TRUE\n",
      "\n",
      "$scaled.by\n",
      "Sepal.Length  Sepal.Width \n",
      "         3.6          2.4 \n",
      "\n",
      "attr(,\"class\")\n",
      "[1] \"ms\"\n"
     ]
    }
   ],
   "source": [
    "print(fit)"
   ]
  },
  {
   "cell_type": "code",
   "execution_count": null,
   "metadata": {
    "collapsed": true
   },
   "outputs": [],
   "source": []
  },
  {
   "cell_type": "code",
   "execution_count": null,
   "metadata": {
    "collapsed": true
   },
   "outputs": [],
   "source": []
  }
 ],
 "metadata": {
  "anaconda-cloud": {},
  "kernelspec": {
   "display_name": "R",
   "language": "R",
   "name": "ir"
  },
  "language_info": {
   "codemirror_mode": "r",
   "file_extension": ".r",
   "mimetype": "text/x-r-source",
   "name": "R",
   "pygments_lexer": "r",
   "version": "3.3.1"
  }
 },
 "nbformat": 4,
 "nbformat_minor": 0
}
